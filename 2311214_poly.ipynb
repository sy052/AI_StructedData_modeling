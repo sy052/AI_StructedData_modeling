{
  "nbformat": 4,
  "nbformat_minor": 0,
  "metadata": {
    "colab": {
      "provenance": [],
      "authorship_tag": "ABX9TyNKQlCZ4/qAgnHBbPZtEids"
    },
    "kernelspec": {
      "name": "python3",
      "display_name": "Python 3"
    },
    "language_info": {
      "name": "python"
    }
  },
  "cells": [
    {
      "cell_type": "code",
      "execution_count": 1,
      "metadata": {
        "colab": {
          "base_uri": "https://localhost:8080/"
        },
        "id": "lcR4TYrAA0Oj",
        "outputId": "1491518a-d531-4912-87c0-d9e38c233efc"
      },
      "outputs": [
        {
          "output_type": "stream",
          "name": "stdout",
          "text": [
            "다항식의 해는 약 1.000000입니다.\n"
          ]
        }
      ],
      "source": [
        "def bisection_method(poly, a, b, tol=1e-6, max_iter=100):\n",
        "    \"\"\"\n",
        "    이분법을 사용하여 다항식 P(x)의 해를 찾는 함수\n",
        "\n",
        "    Parameters:\n",
        "    poly (function): P(x)를 계산하는 함수\n",
        "    a, b (float): 구간 [a, b]\n",
        "    tol (float): 허용 오차\n",
        "    max_iter (int): 최대 반복 횟수\n",
        "\n",
        "    Returns:\n",
        "    float: 찾아진 해\n",
        "    \"\"\"\n",
        "\n",
        "    # 초기값 설정\n",
        "    fa = poly(a)\n",
        "    fb = poly(b)\n",
        "\n",
        "    # 초기값에서의 부호가 같은 경우 에러 출력\n",
        "    if fa * fb > 0:\n",
        "        raise ValueError(\"초기 구간에서의 함수 값의 부호는 서로 달라야 합니다.\")\n",
        "\n",
        "    # 이분법 반복\n",
        "    for i in range(max_iter):\n",
        "        c = (a + b) / 2\n",
        "        fc = poly(c)\n",
        "\n",
        "        # 허용 오차 이하로 해를 찾았으면 반환\n",
        "        if abs(fc) < tol:\n",
        "            return c\n",
        "\n",
        "        # 이분법 적용\n",
        "        if fc * fa < 0:\n",
        "            b = c\n",
        "        else:\n",
        "            a = c\n",
        "\n",
        "    # 최대 반복 횟수를 넘어가면 에러 출력\n",
        "    raise RuntimeError(\"이분법이 수렴하지 않았습니다. 더 많은 반복이 필요할 수 있습니다.\")\n",
        "\n",
        "# 예제 다항식: P(x) = x^3 - 6x^2 + 11x - 6\n",
        "def example_polynomial(x):\n",
        "    return x**3 - 6*x**2 + 11*x - 6\n",
        "\n",
        "# 예제 실행\n",
        "a = 0\n",
        "b = 3\n",
        "solution = bisection_method(example_polynomial, a, b)\n",
        "\n",
        "print(f\"다항식의 해는 약 {solution:.6f}입니다.\")\n"
      ]
    },
    {
      "cell_type": "code",
      "source": [
        "def bisection_method_interval(poly, a, b, tol=1e-6, max_iter=100):\n",
        "    \"\"\"\n",
        "    이분법을 사용하여 다항식 P(x)의 해의 구간을 찾는 함수\n",
        "\n",
        "    Parameters:\n",
        "    poly (function): P(x)를 계산하는 함수\n",
        "    a, b (float): 초기 구간 [a, b]\n",
        "    tol (float): 허용 오차\n",
        "    max_iter (int): 최대 반복 횟수\n",
        "\n",
        "    Returns:\n",
        "    list: 찾아진 해의 구간 [a, b]\n",
        "    \"\"\"\n",
        "\n",
        "    # 초기값 설정\n",
        "    fa = poly(a)\n",
        "    fb = poly(b)\n",
        "\n",
        "    # 초기값에서의 부호가 같은 경우 에러 출력\n",
        "    if fa * fb > 0:\n",
        "        raise ValueError(\"초기 구간에서의 함수 값의 부호는 서로 달라야 합니다.\")\n",
        "\n",
        "    # 이분법 반복\n",
        "    for i in range(max_iter):\n",
        "        c = (a + b) / 2\n",
        "        fc = poly(c)\n",
        "\n",
        "        # 허용 오차 이하로 해를 찾았으면 반환\n",
        "        if abs(fc) < tol:\n",
        "            return [a, b]\n",
        "\n",
        "        # 이분법 적용\n",
        "        if fc * fa < 0:\n",
        "            b = c\n",
        "        else:\n",
        "            a = c\n",
        "\n",
        "    # 최대 반복 횟수를 넘어가면 에러 출력\n",
        "    raise RuntimeError(\"이분법이 수렴하지 않았습니다. 더 많은 반복이 필요할 수 있습니다.\")\n",
        "\n",
        "# 예제 다항식: P(x) = x^3 - 6x^2 + 11x - 6\n",
        "def example_polynomial(x):\n",
        "    return x**3 - 6*x**2 + 11*x - 6\n",
        "\n",
        "# 예제 실행\n",
        "a = 0\n",
        "b = 3\n",
        "solution_interval = bisection_method_interval(example_polynomial, a, b)\n",
        "\n",
        "print(f\"다항식의 해의 구간은 [{solution_interval[0]:.6f}, {solution_interval[1]:.6f}]입니다.\")\n"
      ],
      "metadata": {
        "colab": {
          "base_uri": "https://localhost:8080/"
        },
        "id": "8VzYa2IzCcRj",
        "outputId": "d0f22fae-54ea-479f-e073-e9c449c019af"
      },
      "execution_count": 2,
      "outputs": [
        {
          "output_type": "stream",
          "name": "stdout",
          "text": [
            "다항식의 해의 구간은 [0.999999, 1.000002]입니다.\n"
          ]
        }
      ]
    },
    {
      "cell_type": "code",
      "source": [
        "def bisection_method_interval(poly, a, b, tol=1e-6, max_iter=100):\n",
        "    \"\"\"\n",
        "    이분법을 사용하여 다항식 P(x)의 해의 구간을 찾는 함수\n",
        "\n",
        "    Parameters:\n",
        "    poly (function): P(x)를 계산하는 함수\n",
        "    a, b (float): 초기 구간 [a, b]\n",
        "    tol (float): 허용 오차\n",
        "    max_iter (int): 최대 반복 횟수\n",
        "\n",
        "    Returns:\n",
        "    list: 찾아진 해의 구간 [a, b] 또는 메시지\n",
        "    \"\"\"\n",
        "\n",
        "    # 초기값 설정\n",
        "    fa = poly(a)\n",
        "    fb = poly(b)\n",
        "\n",
        "    # 초기값에서의 부호가 같은 경우\n",
        "    if fa * fb > 0:\n",
        "        return \"구간을 새로 설정하세요.\"\n",
        "\n",
        "    # 이분법 반복\n",
        "    for i in range(max_iter):\n",
        "        c = (a + b) / 2\n",
        "        fc = poly(c)\n",
        "\n",
        "        # 허용 오차 이하로 해를 찾았으면 반환\n",
        "        if abs(fc) < tol:\n",
        "            return [a, b]\n",
        "\n",
        "        # 이분법 적용\n",
        "        if fc * fa < 0:\n",
        "            b = c\n",
        "        elif fc * fa > 0:\n",
        "            a = c\n",
        "        else:  # fc * fa == 0, 즉 해를 찾은 경우\n",
        "            return \"해를 찾았습니다.\"\n",
        "\n",
        "    # 최대 반복 횟수를 넘어가면 메시지 출력\n",
        "    return \"이분법이 수렴하지 않았습니다. 더 많은 반복이 필요할 수 있습니다.\"\n",
        "\n",
        "# 예제 다항식: P(x) = x^3 - 6x^2 + 11x - 6\n",
        "def example_polynomial(x):\n",
        "    return x**3 - 6*x**2 + 11*x - 6\n",
        "\n",
        "# 예제 실행\n",
        "a = 0\n",
        "b = 3\n",
        "solution_interval = bisection_method_interval(example_polynomial, a, b)\n",
        "\n",
        "print(solution_interval)\n"
      ],
      "metadata": {
        "colab": {
          "base_uri": "https://localhost:8080/"
        },
        "id": "W3tLmWXUCzuv",
        "outputId": "45b1b7c4-b72a-4ab7-c62d-61422f67e778"
      },
      "execution_count": 3,
      "outputs": [
        {
          "output_type": "stream",
          "name": "stdout",
          "text": [
            "[0.9999990463256836, 1.0000019073486328]\n"
          ]
        }
      ]
    },
    {
      "cell_type": "code",
      "source": [
        "def  bisection_method(poly, a, b, tol=1e-6, max_iter=100):\n",
        "    \"\"\"\n",
        "    Parameters:\n",
        "    poly (function)\n",
        "    초기 구간 [a, b]\n",
        "    tol (float): 허용 오차\n",
        "    max_iter (int): 최대 반복 횟수\n",
        "\n",
        "    Returns:\n",
        "    list: 찾아진 해의 구간 [a, b] 또는 메시지\n",
        "    \"\"\"\n",
        "\n",
        "    # 초기값 설정\n",
        "    fa = poly(a)\n",
        "    fb = poly(b)\n",
        "\n",
        "    # 초기값에서의 부호가 같은 경우\n",
        "    if fa * fb > 0:\n",
        "        return \"구간을 새로 설정하세요.\"\n",
        "\n",
        "    # 이분법 반복\n",
        "    for i in range(max_iter):\n",
        "        c = (a + b) / 2\n",
        "        fc = poly(c)\n",
        "\n",
        "        # 허용 오차 이하로 해를 찾았으면 반환\n",
        "        if abs(fc) < tol:\n",
        "            return [a, b]\n",
        "\n",
        "        # 이분법 적용\n",
        "        if fc * fa < 0:\n",
        "            b = c\n",
        "        elif fc * fa > 0:\n",
        "            a = c\n",
        "        else:  # fc * fa == 0, 즉 해를 찾은 경우\n",
        "            return \"해를 찾았습니다.\"\n",
        "\n",
        "    # 최대 반복 횟수를 넘어가면 메시지 출력\n",
        "    return \"이분법이 수렴하지 않았습니다. 더 많은 반복이 필요할 수 있습니다.\"\n",
        "\n",
        "# 예제 다항식: P(x) = x^3 - 6x^2 + 11x - 6\n",
        "def example_polynomial(x):\n",
        "    return x**3 - 6*x**2 + 11*x - 6\n",
        "\n",
        "# 예제 실행\n",
        "a = 0\n",
        "b = 3\n",
        "solution_interval = bisection_method_interval(example_polynomial, a, b)\n",
        "\n",
        "print(solution_interval)\n"
      ],
      "metadata": {
        "colab": {
          "base_uri": "https://localhost:8080/"
        },
        "id": "GwvMYESFDCoX",
        "outputId": "133a05c2-7d16-462f-d507-991c16f34100"
      },
      "execution_count": 6,
      "outputs": [
        {
          "output_type": "stream",
          "name": "stdout",
          "text": [
            "[1.0, 1.0]\n"
          ]
        }
      ]
    },
    {
      "cell_type": "code",
      "source": [
        "def bisection_method(poly, a, b, tol=1e-6, max_iter=100):\n",
        "\n",
        "    # 초기값 설정\n",
        "    fa = poly(a)\n",
        "    fb = poly(b)\n",
        "\n",
        "    # 초기값의 부호가 같은 경우\n",
        "    if fa * fb > 0:\n",
        "        return \"구간을 새로 설정하세요.\"\n",
        "\n",
        "    # 이분법 반복\n",
        "    for i in range(max_iter):\n",
        "        c = (a + b) / 2\n",
        "        fc = poly(c)\n",
        "\n",
        "        # 허용 오차 이하로 해를 찾았으면 반환\n",
        "        if abs(fc) < tol:\n",
        "            return [round(a, 3), round(b, 3)]\n",
        "            #return [a, b]\n",
        "\n",
        "        # 이분법 적용\n",
        "        if fc * fa < 0:\n",
        "            b = c\n",
        "        elif fc * fa > 0:\n",
        "            a = c\n",
        "        else:  # fc * fa == 0\n",
        "            return \"해를 찾았습니다.\"\n",
        "\n",
        "    # 최대 반복 횟수를 넘어가면 메시지 출력\n",
        "    return \"이분법이 수렴하지 않으므로, 더 많은 반복이 필요합니다.\"\n",
        "\n",
        "# 예제 다항식: P(x) = x^3 - 6x^2 + 11x - 6\n",
        "def example_polynomial(x):\n",
        "    return x**3 - 6*x**2 + 11*x - 6\n",
        "\n",
        "# 예제 실행\n",
        "a = -2\n",
        "b = 7\n",
        "solution_interval = bisection_method_interval(example_polynomial, a, b)\n",
        "\n",
        "print(solution_interval)\n"
      ],
      "metadata": {
        "colab": {
          "base_uri": "https://localhost:8080/"
        },
        "id": "BpTN6FBbDhSZ",
        "outputId": "1048db4b-60fd-40c6-9a44-bd528abf511a"
      },
      "execution_count": 9,
      "outputs": [
        {
          "output_type": "stream",
          "name": "stdout",
          "text": [
            "[3.0, 3.0]\n"
          ]
        }
      ]
    },
    {
      "cell_type": "code",
      "source": [
        "def poly_cacul(coef, x):\n",
        "    \"\"\"다항식을 계산하는 함수\"\"\"\n",
        "    result = 0\n",
        "    for i, coeff in enumerate(coef):\n",
        "        result += coeff * (x ** (len(coef) - i - 1))\n",
        "    return result\n",
        "\n",
        "def e_bun_beob(poly, interval):\n",
        "    \"\"\"이분법\n",
        "    input : 다항식 f(x), 구간 [a,b]\n",
        "    output : f(x) 해구간 줄이기\n",
        "\n",
        "    \"\"\"\n",
        "    a, b = interval\n",
        "    fa = poly_cacul(poly, a)\n",
        "    fb = poly_cacul(poly, b)\n",
        "\n",
        "    if fa * fb > 0:\n",
        "        return \"구간을 새로 설정하시오\"\n",
        "    elif fa * fb == 0:\n",
        "        return \"해 찾음\"\n",
        "\n",
        "    newa, newb = a, b\n",
        "\n",
        "    while abs(newb - newa) >= 0.001:\n",
        "        # 중간점 계산\n",
        "        c = (newa + newb) / 2\n",
        "        fc = poly_cacul(poly, c)\n",
        "\n",
        "        if fc == 0:\n",
        "            return \"해 찾음\"\n",
        "        elif fa * fc < 0:\n",
        "            newb = c\n",
        "        else:\n",
        "            newa = c\n",
        "\n",
        "    return [newa, newb]\n",
        "\n",
        "# 예시 다항식: f(x) = x^2 - 4\n",
        "poly = [1, 0, -4]\n",
        "interval = [0, 5]\n",
        "\n",
        "result = e_bun_beob(poly, interval)\n",
        "print(result)"
      ],
      "metadata": {
        "colab": {
          "base_uri": "https://localhost:8080/"
        },
        "id": "X_y6fzpuGEac",
        "outputId": "4a2366f2-e1f1-4645-9fa1-12eb407ed5f6"
      },
      "execution_count": 10,
      "outputs": [
        {
          "output_type": "stream",
          "name": "stdout",
          "text": [
            "[1.99951171875, 2.0001220703125]\n"
          ]
        }
      ]
    }
  ]
}